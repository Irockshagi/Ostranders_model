{
 "metadata": {
  "name": "",
  "signature": "sha256:7e3e5bd8e16f9b5747400270e943bd1283e3708f2135a863144911829dd2e4a1"
 },
 "nbformat": 3,
 "nbformat_minor": 0,
 "worksheets": [
  {
   "cells": [
    {
     "cell_type": "markdown",
     "metadata": {},
     "source": [
      "Create Synthetic Rickers Wavelet via Python style function\n",
      "--------------------------------"
     ]
    },
    {
     "cell_type": "markdown",
     "metadata": {},
     "source": [
      "By : Roy Baroes \n",
      "\n",
      "\n",
      "     Samudra Energy Ltd (SEL)\n",
      "     Himmpunan Ahli Geofisika Indonesia (HAGI)\n",
      "     Indonesian Association of Rock Physics (Irocks)\n"
     ]
    },
    {
     "cell_type": "markdown",
     "metadata": {},
     "source": [
      "In this excercise, we will create a simple Ricker wavelet (also known as Mexican Hat) using  python function"
     ]
    },
    {
     "cell_type": "code",
     "collapsed": false,
     "input": [
      "%matplotlib inline\n",
      "import numpy as np\n",
      "import matplotlib.pyplot as plt\n",
      "import scipy.signal as signal"
     ],
     "language": "python",
     "metadata": {},
     "outputs": [],
     "prompt_number": 8
    },
    {
     "cell_type": "markdown",
     "metadata": {},
     "source": [
      "Import all important python Moduls : Numpy, Matplotlib and Scipy"
     ]
    },
    {
     "cell_type": "code",
     "collapsed": false,
     "input": [
      "wvlt_length= 0.160 # Wavelet length in seconds\n",
      "wvlt_phase = 0.0   # Wavelet phase in degrees\n",
      "wvlt_scalar = 1.0  # Multiplier to scale wavelet amplitude (default = 1.0)\n",
      "wvlt_cfreq = 30.0  # Ricker wavelet central frequency\n",
      "dt = 0.0001        # time sampling in second"
     ],
     "language": "python",
     "metadata": {},
     "outputs": [],
     "prompt_number": 6
    },
    {
     "cell_type": "markdown",
     "metadata": {},
     "source": [
      "Now, We calculate a zero-phase ricker wavelet using a python style ricker wavelet function called ricker\n",
      "\n",
      "usage :\n",
      "\n",
      "    t, wvlt = wvlt_ricker(cfreq, dt, wvlt_length)\n",
      "    \n",
      "    cfreq      : central frequency of wavelet in Hz\n",
      "    phase      : wavelet phase in degrees\n",
      "    dt         : sample rate in seconds\n",
      "    wvlt_length: length of wavelet in seconds"
     ]
    },
    {
     "cell_type": "code",
     "collapsed": false,
     "input": [
      "def ricker(cfreq, phase, dt, wvlt_length):\n",
      "    nsamp = int(wvlt_length/dt + 1)\n",
      "    t_max = wvlt_length*0.5\n",
      "    t_min = -t_max\n",
      "    \n",
      "    t = np.arange(t_min, t_max, dt)\n",
      "    \n",
      "    t = np.linspace(-wvlt_length/2, (wvlt_length-dt)/2, wvlt_length/dt)\n",
      "    wvlt = (1.0 - 2.0*(np.pi**2)*(cfreq**2)*(t**2)) * np.exp(-(np.pi**2)*(cfreq**2)*(t**2))\n",
      "    \n",
      "    if phase != 0:\n",
      "        phase = phase*np.pi/180.0\n",
      "        wvlth = signal.hilbert(wvlt)\n",
      "        wvlth = np.imag(wvlth)\n",
      "        wvlt = np.cos(phase)*wvlt - np.sin(phase)*wvlth\n",
      "    \n",
      "    return t, wvlt"
     ],
     "language": "python",
     "metadata": {},
     "outputs": [],
     "prompt_number": 5
    },
    {
     "cell_type": "code",
     "collapsed": false,
     "input": [
      "wvltr_t, wvltr_amp = ricker(wvlt_cfreq, wvlt_phase, dt, wvlt_length)"
     ],
     "language": "python",
     "metadata": {},
     "outputs": [],
     "prompt_number": 7
    },
    {
     "cell_type": "markdown",
     "metadata": {},
     "source": [
      "Plot the zero-phase ricker wavelet"
     ]
    },
    {
     "cell_type": "code",
     "collapsed": false,
     "input": [
      "f1 = plt.figure(1,figsize = (12,8))\n",
      "f1.suptitle('Zero-Phase Ricker Wavelet', fontsize=25)\n",
      "plt.plot(wvltr_t, wvltr_amp)\n",
      "plt.xlabel('time '+ r'$[ms]$', fontsize = '12')\n",
      "plt.ylabel('Amplitude', fontsize = '12')\n",
      "plt.xlim(-0.085,0.085)\n",
      "plt.ylim(-0.6, 1.1)\n",
      "\n",
      "plt.show()"
     ],
     "language": "python",
     "metadata": {},
     "outputs": [
      {
       "metadata": {},
       "output_type": "display_data",
       "png": "[encoded data removed]",
       "text": [
        "<matplotlib.figure.Figure at 0xb3ceb00>"
       ]
      }
     ],
     "prompt_number": 14
    },
    {
     "cell_type": "code",
     "collapsed": false,
     "input": [],
     "language": "python",
     "metadata": {},
     "outputs": []
    }
   ],
   "metadata": {}
  }
 ]
}